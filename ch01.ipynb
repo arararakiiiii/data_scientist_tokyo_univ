{
 "cells": [
  {
   "cell_type": "code",
   "execution_count": 9,
   "metadata": {},
   "outputs": [
    {
     "name": "stdout",
     "output_type": "stream",
     "text": [
      "[1, 2, 3, 4, 5, 6, 7, 8, 9, 10, 11]\n",
      "[1, 3, 4, 5, 6, 7, 8, 9, 10, 11]\n",
      "[1, 3, 5, 6, 7, 8, 9, 10, 11]\n",
      "[1, 6, 7, 8, 9, 10, 11]\n"
     ]
    }
   ],
   "source": [
    "#リスト\n",
    "data_list = [1, 2, 3, 4, 5, 6, 7, 8, 9, 10]\n",
    "data_list.append(11)\n",
    "print(data_list)\n",
    "data_list.remove(2) #2を消す\n",
    "print(data_list)\n",
    "data_list.pop(2) #2番目を消す\n",
    "print(data_list)\n",
    "del(data_list[1:3]) #1と２を消す\n",
    "print(data_list)"
   ]
  },
  {
   "cell_type": "code",
   "execution_count": 39,
   "metadata": {},
   "outputs": [
    {
     "name": "stdout",
     "output_type": "stream",
     "text": [
      "100\n",
      "{'apple': 100, 'banana': 200, 'orange': 300, 'mango': 400}\n",
      "700\n",
      "{'apple': 100, 'banana': 200, 'orange': 300}\n",
      "{'apple': 100, 'banana': 200}\n",
      "{'apple': 100, 'banana': 200, 'food': ['rice', 'bread']}\n",
      "\n",
      "food\n",
      "['rice', 'bread']\n",
      "{'apple': 100, 'banana': 200}\n",
      "\n",
      "dict_keys(['apple', 'banana'])\n",
      "dict_values([100, 200])\n",
      "\n",
      "apple 100\n",
      "banana 200\n"
     ]
    }
   ],
   "source": [
    "#辞書型\n",
    "dic = {'apple':100, 'banana':200, 'orange':300}\n",
    "print(dic['apple'])\n",
    "dic['mango'] = 400\n",
    "print(dic)\n",
    "print(dic['mango'] + dic['orange'])\n",
    "\n",
    "#特定のキーを指定して消去\n",
    "del(dic['mango']) \n",
    "print(dic)\n",
    "dic.pop('orange')\n",
    "print(dic)\n",
    "\n",
    "#リストを入れることも可能\n",
    "dic['food'] = ['rice', 'bread']\n",
    "print(dic)\n",
    "print()\n",
    "\n",
    "#辞書の要素を削除し，そのkeyとvalueを返す． ただし何を消去するかは指定できない．\n",
    "k, v = dic.popitem() \n",
    "print(k)\n",
    "print(v)\n",
    "print(dic)\n",
    "print()\n",
    "\n",
    "#keyのみ出力\n",
    "print(dic.keys())\n",
    "#valueのみ出力\n",
    "print(dic.values())\n",
    "print()\n",
    "\n",
    "for dic_key in dic:\n",
    "    print(dic_key, dic[dic_key])"
   ]
  },
  {
   "cell_type": "code",
   "execution_count": 32,
   "metadata": {},
   "outputs": [
    {
     "name": "stdout",
     "output_type": "stream",
     "text": [
      "2と3を足すと5です\n"
     ]
    }
   ],
   "source": [
    "#文字列フォーマット\n",
    "print('{0}と{1}を足すと{2}です'.format(2,3,2+3))"
   ]
  },
  {
   "cell_type": "code",
   "execution_count": 63,
   "metadata": {},
   "outputs": [
    {
     "name": "stdout",
     "output_type": "stream",
     "text": [
      "nums1 = [0, 1, 2, 3, 4, 5, 6, 7, 8, 9, 10]\n",
      "nums = [1, 3, 5, 7, 9]\n",
      "\n",
      "{'apple': 100, 'banana': 200}\n",
      "apple 100\n",
      "banana 200\n",
      "\n",
      "[1, 6, 7, 8, 9, 10, 11]\n",
      "[2, 12, 14, 16, 18, 20, 22]\n",
      "[12, 16, 20]\n",
      "\n",
      "1 one\n",
      "2 two\n",
      "3 three\n"
     ]
    }
   ],
   "source": [
    "#for文\n",
    "nums1 = []\n",
    "nums2 =[]\n",
    "for i in range(11):\n",
    "    nums1.append(i)\n",
    "print('nums1 =',nums1)\n",
    "    \n",
    "#１から１１まで２つ飛ばしで，１１の手前まで取り出す\n",
    "for i in range(1,11,2):\n",
    "    nums2.append(i)\n",
    "print('nums =', nums2)\n",
    "print()\n",
    "\n",
    "#2つの変数を同時に取り出す\n",
    "print(dic)\n",
    "for key, value in dic.items():\n",
    "    print(key, value)\n",
    "print()\n",
    "\n",
    "#内包表記\n",
    "data_list1 = []\n",
    "data_list1 = [i*2 for i in data_list]\n",
    "print(data_list)\n",
    "print(data_list1)\n",
    "data_list1 = [i*2 for i in data_list if i%2 == 0]\n",
    "print(data_list1)\n",
    "print()\n",
    "\n",
    "#zip関数\n",
    "for number, name in zip([1,2,3], ['one','two','three']):\n",
    "    print(number,name)"
   ]
  },
  {
   "cell_type": "code",
   "execution_count": 64,
   "metadata": {},
   "outputs": [],
   "source": [
    "#関数 #フィボナッチ数列を計算\n",
    "def calc_fib(n): #こっちは非効率\n",
    "    if n==1 or n==2:\n",
    "        return 1\n",
    "    else:\n",
    "        return calc_fib(n-1) + calc_fib(n-2)\n",
    "\n",
    "def Fib(n):\n",
    "    a, b = 1, 1\n",
    "    if n == 1:\n",
    "        return a\n",
    "    elif n == 2:\n",
    "        return b\n",
    "    else:\n",
    "        for i in range(n-2):\n",
    "            a, b = b, a + b\n",
    "        return b"
   ]
  },
  {
   "cell_type": "code",
   "execution_count": 76,
   "metadata": {},
   "outputs": [
    {
     "name": "stdout",
     "output_type": "stream",
     "text": [
      "処理にかかった時間は39.552748918533325秒です。\n"
     ]
    }
   ],
   "source": [
    "#実行速度の違いを確認\n",
    "#再帰法\n",
    "import time\n",
    "start=time.time()\n",
    "calc_fib(40)\n",
    "end=time.time()\n",
    "print(f'処理にかかった時間は{end-start}秒です。')"
   ]
  },
  {
   "cell_type": "code",
   "execution_count": 75,
   "metadata": {},
   "outputs": [
    {
     "name": "stdout",
     "output_type": "stream",
     "text": [
      "処理にかかった時間は7.486343383789062e-05秒です。\n"
     ]
    }
   ],
   "source": [
    "#反復法\n",
    "start=time.time()\n",
    "Fib(40)\n",
    "end=time.time()\n",
    "print(f'処理にかかった時間は{end-start}秒です。')"
   ]
  },
  {
   "cell_type": "code",
   "execution_count": 70,
   "metadata": {},
   "outputs": [],
   "source": [
    "#再帰法での高速化　→　メモ化\n",
    "def fib_memo(n):\n",
    "    memo=[\"EMPTY\"]*(n+1)\n",
    "    def _fib(n):\n",
    "        if n == 1:\n",
    "            return 1\n",
    "        elif n == 2:\n",
    "            return 1\n",
    "        elif memo[n] != \"EMPTY\":\n",
    "            return memo[n]\n",
    "        else:\n",
    "            memo[n] = _fib(n-1)+_fib(n-2)\n",
    "            return memo[n]\n",
    "    return _fib(n)"
   ]
  },
  {
   "cell_type": "code",
   "execution_count": 71,
   "metadata": {},
   "outputs": [
    {
     "name": "stdout",
     "output_type": "stream",
     "text": [
      "処理にかかった時間は0.00015091896057128906秒です。\n"
     ]
    }
   ],
   "source": [
    "start=time.time()\n",
    "fib_memo(40)\n",
    "end=time.time()\n",
    "print(f'処理にかかった時間は{end-start}秒です。')"
   ]
  },
  {
   "cell_type": "code",
   "execution_count": 79,
   "metadata": {},
   "outputs": [
    {
     "name": "stdout",
     "output_type": "stream",
     "text": [
      "30\n",
      "[2, 4, 6, 8]\n"
     ]
    }
   ],
   "source": [
    "#無名関数\n",
    "print((lambda a, b: a*b)(3, 10))\n",
    "print(list(map(lambda x: x*2, [1, 2, 3, 4])))"
   ]
  },
  {
   "cell_type": "code",
   "execution_count": 106,
   "metadata": {},
   "outputs": [
    {
     "name": "stdout",
     "output_type": "stream",
     "text": [
      "10\n",
      "10\n",
      "[3, 4]\n"
     ]
    }
   ],
   "source": [
    "#reduce() はリストやタプルの要素を足しあわせたりかけあわせたりする関数\n",
    "#畳み込み演算\n",
    "from operator import add\n",
    "from functools import reduce\n",
    "print(reduce(add, [1,2,3,4]))\n",
    "print(reduce(lambda x, y: x + y, [1,2,3,4]))\n",
    "\n",
    "#filter() はリストやタプルの要素のうち関数を適用した結果が True となるものだけをイテレータとして返す関数\n",
    "print(list(filter(lambda x: abs(x) > 2, [1,2,3,4])))"
   ]
  },
  {
   "cell_type": "code",
   "execution_count": 127,
   "metadata": {},
   "outputs": [
    {
     "name": "stdout",
     "output_type": "stream",
     "text": [
      "d 0\n",
      "a 1\n",
      "t 2\n",
      "a 3\n",
      "  4\n",
      "s 5\n",
      "c 6\n",
      "i 7\n",
      "e 8\n",
      "n 9\n",
      "c 10\n",
      "e 11\n",
      "\n",
      "data science"
     ]
    }
   ],
   "source": [
    "#practice 1-1\n",
    "str = 'data science'\n",
    "for s in range(len(str)):\n",
    "    print(str[s], s)\n",
    "print()\n",
    "\n",
    "for s in str:\n",
    "    print(s, end = \"\")"
   ]
  },
  {
   "cell_type": "code",
   "execution_count": 128,
   "metadata": {},
   "outputs": [
    {
     "name": "stdout",
     "output_type": "stream",
     "text": [
      "1275\n",
      "1275\n"
     ]
    }
   ],
   "source": [
    "#practice 1-2\n",
    "def sum_num(n):\n",
    "    sums = 0\n",
    "    while n>0:\n",
    "        sums += n\n",
    "        n -= 1\n",
    "    return sums\n",
    "print(sum_num(50))\n",
    "print(sum(range(1,51)))"
   ]
  },
  {
   "cell_type": "code",
   "execution_count": 130,
   "metadata": {},
   "outputs": [
    {
     "name": "stdout",
     "output_type": "stream",
     "text": [
      "10 100\n"
     ]
    }
   ],
   "source": [
    "#クラスとインスタンス\n",
    "class PrintClass:\n",
    "    def print_me(self):\n",
    "        print(self.x, self.y)\n",
    "\n",
    "p1 = PrintClass()\n",
    "\n",
    "p1.x = 10\n",
    "p1.y = 100\n",
    "p1.z = 1000\n",
    "\n",
    "p1.print_me()"
   ]
  },
  {
   "cell_type": "code",
   "execution_count": 146,
   "metadata": {},
   "outputs": [],
   "source": [
    "class MyCalcClass:\n",
    "    def __init__(self, x, y):\n",
    "        self.x = x\n",
    "        self.y = y\n",
    "        \n",
    "    def calc_add1(self, a, b):\n",
    "        return a+b\n",
    "    \n",
    "    def calc_add2(self):\n",
    "        return self.x+self.y\n",
    "    \n",
    "    def calc_mutli(self, a, b):\n",
    "        return a*b\n",
    "    \n",
    "    def calc_print(self, a):\n",
    "        print('data:{0}:xの値{1}:yの値{2}'.format(a, self.x, self.y))"
   ]
  },
  {
   "cell_type": "code",
   "execution_count": 147,
   "metadata": {},
   "outputs": [],
   "source": [
    "instance_1 = MyCalcClass(1,2)\n",
    "instance_2 = MyCalcClass(5,10)"
   ]
  },
  {
   "cell_type": "code",
   "execution_count": 151,
   "metadata": {},
   "outputs": [
    {
     "name": "stdout",
     "output_type": "stream",
     "text": [
      "5\n",
      "3\n",
      "15\n",
      "30\n",
      "data:3:xの値1:yの値2\n"
     ]
    }
   ],
   "source": [
    "print(instance_1.calc_add1(2,3))\n",
    "print(instance_1.calc_add2())\n",
    "print(instance_2.calc_add2())\n",
    "print(instance_1.calc_mutli(5,6))\n",
    "instance_1.calc_print(3)"
   ]
  },
  {
   "cell_type": "code",
   "execution_count": 159,
   "metadata": {},
   "outputs": [],
   "source": [
    "#メソッドの追加\n",
    "def calc_difference(self):\n",
    "    return self.x - self.y\n",
    "MyCalcClass.calc_difference = calc_difference"
   ]
  },
  {
   "cell_type": "code",
   "execution_count": 160,
   "metadata": {},
   "outputs": [
    {
     "data": {
      "text/plain": [
       "40"
      ]
     },
     "execution_count": 160,
     "metadata": {},
     "output_type": "execute_result"
    }
   ],
   "source": [
    "instance_3 = MyCalcClass(50,10)\n",
    "instance_3.calc_difference()"
   ]
  },
  {
   "cell_type": "code",
   "execution_count": 221,
   "metadata": {},
   "outputs": [
    {
     "name": "stdout",
     "output_type": "stream",
     "text": [
      "2\n",
      "3\n",
      "5\n",
      "7\n"
     ]
    }
   ],
   "source": [
    "#総合問題\n",
    "for i in range(2,11): #2-10\n",
    "    for n in range(2, i+1):\n",
    "        if i==n:\n",
    "            print(i)\n",
    "        if i%n == 0:\n",
    "            break"
   ]
  },
  {
   "cell_type": "code",
   "execution_count": 218,
   "metadata": {},
   "outputs": [
    {
     "name": "stdout",
     "output_type": "stream",
     "text": [
      "2\n",
      "3\n",
      "5\n",
      "7\n",
      "11\n",
      "13\n",
      "17\n",
      "19\n"
     ]
    }
   ],
   "source": [
    "def natural_num(N):\n",
    "    for i in range(2,N+1): #2-10\n",
    "        for n in range(2, i+1):\n",
    "            if i==n:\n",
    "                print(i)\n",
    "            if i%n == 0:\n",
    "                break\n",
    "natural_num(20)"
   ]
  },
  {
   "cell_type": "code",
   "execution_count": null,
   "metadata": {},
   "outputs": [],
   "source": []
  }
 ],
 "metadata": {
  "kernelspec": {
   "display_name": "Python 3",
   "language": "python",
   "name": "python3"
  },
  "language_info": {
   "codemirror_mode": {
    "name": "ipython",
    "version": 3
   },
   "file_extension": ".py",
   "mimetype": "text/x-python",
   "name": "python",
   "nbconvert_exporter": "python",
   "pygments_lexer": "ipython3",
   "version": "3.7.5"
  }
 },
 "nbformat": 4,
 "nbformat_minor": 4
}
